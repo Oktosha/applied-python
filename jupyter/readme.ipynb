{
 "cells": [
  {
   "cell_type": "markdown",
   "id": "39a2fd46",
   "metadata": {},
   "source": [
    "# Jupyter 101"
   ]
  },
  {
   "cell_type": "markdown",
   "id": "e5fb4fed",
   "metadata": {},
   "source": [
    "## What is jupyter\n",
    "\n",
    "Jupyter notebook consists of cells with markdown and cells with code. When you open a jupyter notebook from jupyter server, it attaches a python kernel to it. This kernel allows you to execute the code inside the notebook. Kernel is a special instance of python interpreter."
   ]
  },
  {
   "cell_type": "markdown",
   "id": "4322fc99",
   "metadata": {},
   "source": [
    "## How do I run Jupyter\n",
    "\n",
    "You can play with jupyter on [jupyter.org](https://jupyter.org/), use [Google Colab](https://colab.research.google.com/) or install and run it locally.\n",
    "\n",
    "```bash\n",
    "pip3 install jupyter\n",
    "jupyter notebook\n",
    "```"
   ]
  },
  {
   "cell_type": "markdown",
   "id": "2e1a24ec",
   "metadata": {},
   "source": [
    "## Notes on code execution in Juputer\n",
    "\n",
    "As python is an interpreted language, you don't need to compile your programs like in C. It also means, that you don't have to give all the text of your program to the interpreter in one go. You can give the interpreter the first line, than the second line, and so on. In jupyter you have a command to send one cell of code to the active kernel. Use it (control+enter or via menu on top) to run the cell below."
   ]
  },
  {
   "cell_type": "code",
   "execution_count": null,
   "id": "215178d7",
   "metadata": {},
   "outputs": [],
   "source": [
    "name = \"Xavier\"\n",
    "print(f\"Hello, {name}!\")"
   ]
  },
  {
   "cell_type": "markdown",
   "id": "0f8732ba",
   "metadata": {},
   "source": [
    "The output of these two lines of code should have appeared below the cell.\n",
    "\n",
    "It worked because these lines of code were given to the kernel (python interpreter). But jupyter doesn't reload the kernel after execution of each cell. You need to ask jupyter to reload the kernel if you want it. It means that all the variables you've created in once cell can be used in the other cell. Try the following:"
   ]
  },
  {
   "cell_type": "code",
   "execution_count": null,
   "id": "8f2cdf55",
   "metadata": {},
   "outputs": [],
   "source": [
    "print(f\"Hello again, {name}!\")"
   ]
  },
  {
   "cell_type": "markdown",
   "id": "5ac40c43",
   "metadata": {},
   "source": [
    "The variable `name` is still there.\n",
    "\n",
    "Under the hood is just copy-pasting the command from the cell into interpreter. You can even change the cell you've already run and run it again with changes. Still same copy-paste into the interpreter.\n",
    "\n",
    "I write my jupyter notebooks in such a way that all the code can be executed in the top-to-bottom order. But in the experimentation phase they are more messy.\n",
    "\n",
    "Also good to know that python doesn't import a package twice. It means you need to reload the kernel if you want to get changes from the module you import. But you can totally redefine a variable or a function if you want it: Python will just use the latest version.\n",
    "\n",
    "Jupyter doesn't erase the outputs of the commands when the kernel is shut down. I cleared the outputs of the cells above to make the appearance of the output more clear. But you can see a saved output of in the cell below."
   ]
  },
  {
   "cell_type": "code",
   "execution_count": 1,
   "id": "9f5cb4af",
   "metadata": {},
   "outputs": [
    {
     "name": "stdout",
     "output_type": "stream",
     "text": [
      "Thank you for reading!\n"
     ]
    }
   ],
   "source": [
    "print(\"Thank you for reading!\")"
   ]
  }
 ],
 "metadata": {
  "kernelspec": {
   "display_name": "Python 3 (ipykernel)",
   "language": "python",
   "name": "python3"
  },
  "language_info": {
   "codemirror_mode": {
    "name": "ipython",
    "version": 3
   },
   "file_extension": ".py",
   "mimetype": "text/x-python",
   "name": "python",
   "nbconvert_exporter": "python",
   "pygments_lexer": "ipython3",
   "version": "3.9.1"
  }
 },
 "nbformat": 4,
 "nbformat_minor": 5
}
